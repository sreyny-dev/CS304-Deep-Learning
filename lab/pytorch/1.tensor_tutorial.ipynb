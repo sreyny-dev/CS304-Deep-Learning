{
 "cells": [
  {
   "cell_type": "markdown",
   "metadata": {
    "colab_type": "text",
    "id": "PIuEiTJpzSZC"
   },
   "source": [
    "# What is PyTorch?\n",
    "\n",
    "It’s a Python based scientific computing package targeted at two sets of\n",
    "audiences:\n",
    "-  A replacement for NumPy to use the power of GPUs\n",
    "-  a deep learning research platform that provides maximum flexibility\n",
    "   and speed\n",
    "\n",
    "## Getting Started\n",
    "\n",
    "### Tensors\n",
    "\n",
    "Tensors are similar to NumPy’s ndarrays, with the addition being that\n",
    "Tensors can also be used on a GPU to accelerate computing."
   ]
  },
  {
   "cell_type": "code",
   "execution_count": 43,
   "metadata": {
    "colab": {
     "autoexec": {
      "startup": false,
      "wait_interval": 0
     }
    },
    "colab_type": "code",
    "id": "iEW7SkqcuivT",
    "ExecuteTime": {
     "end_time": "2024-11-11T07:28:01.524076Z",
     "start_time": "2024-11-11T07:28:01.389387100Z"
    }
   },
   "outputs": [],
   "source": [
    "import torch"
   ]
  },
  {
   "cell_type": "markdown",
   "metadata": {
    "colab_type": "text",
    "id": "ldSkq2qmz5kx"
   },
   "source": [
    "Construct a 5x3 matrix, uninitialized:"
   ]
  },
  {
   "cell_type": "code",
   "execution_count": 44,
   "metadata": {
    "colab": {
     "autoexec": {
      "startup": false,
      "wait_interval": 0
     }
    },
    "colab_type": "code",
    "id": "xUvCfSG0z6Za",
    "ExecuteTime": {
     "end_time": "2024-11-11T07:28:01.524076Z",
     "start_time": "2024-11-11T07:28:01.396927Z"
    }
   },
   "outputs": [
    {
     "name": "stdout",
     "output_type": "stream",
     "text": [
      "tensor([[-2.5980e+33,  9.4868e-43,  3.0737e+00],\n",
      "        [ 5.0642e+00,  2.4475e+00,  7.6000e-01],\n",
      "        [ 1.1320e+00,  1.8180e-01,  1.5118e+00],\n",
      "        [ 1.0525e+00,  1.5475e+00,  8.1761e-01],\n",
      "        [ 1.7956e+00,  5.4406e-01,  7.1739e-01]])\n"
     ]
    }
   ],
   "source": [
    "x = torch.empty(5, 3)\n",
    "print(x)"
   ]
  },
  {
   "cell_type": "markdown",
   "metadata": {
    "colab_type": "text",
    "id": "eg32wRh2z_Kg"
   },
   "source": [
    "Construct a randomly initialized matrix:"
   ]
  },
  {
   "cell_type": "code",
   "execution_count": 45,
   "metadata": {
    "colab": {
     "autoexec": {
      "startup": false,
      "wait_interval": 0
     }
    },
    "colab_type": "code",
    "id": "I_vzhrblz8wm",
    "ExecuteTime": {
     "end_time": "2024-11-11T07:28:01.616795900Z",
     "start_time": "2024-11-11T07:28:01.404605Z"
    }
   },
   "outputs": [
    {
     "name": "stdout",
     "output_type": "stream",
     "text": [
      "tensor([[0.8418, 0.9378, 0.5188],\n",
      "        [0.6750, 0.5273, 0.5188],\n",
      "        [0.1160, 0.7080, 0.1607],\n",
      "        [0.1042, 0.5597, 0.9020],\n",
      "        [0.1148, 0.6043, 0.6833]])\n"
     ]
    }
   ],
   "source": [
    "x = torch.rand(5, 3) # value range 0-1\n",
    "print(x)"
   ]
  },
  {
   "cell_type": "markdown",
   "metadata": {
    "colab_type": "text",
    "id": "wtSN6OfX0GZE"
   },
   "source": [
    "  Construct a matrix filled zeros and of dtype `int64`:"
   ]
  },
  {
   "cell_type": "code",
   "execution_count": 46,
   "metadata": {
    "colab": {
     "autoexec": {
      "startup": false,
      "wait_interval": 0
     }
    },
    "colab_type": "code",
    "id": "4-QlwAkf0B7J",
    "ExecuteTime": {
     "end_time": "2024-11-11T07:28:01.617806500Z",
     "start_time": "2024-11-11T07:28:01.411509300Z"
    }
   },
   "outputs": [
    {
     "name": "stdout",
     "output_type": "stream",
     "text": [
      "tensor([[0, 0, 0],\n",
      "        [0, 0, 0],\n",
      "        [0, 0, 0],\n",
      "        [0, 0, 0],\n",
      "        [0, 0, 0]])\n"
     ]
    }
   ],
   "source": [
    "x = torch.zeros(5, 3, dtype=torch.int64)\n",
    "print(x)"
   ]
  },
  {
   "cell_type": "markdown",
   "metadata": {
    "colab_type": "text",
    "id": "fgZMFkVa0GHw"
   },
   "source": [
    "Construct a tensor directly from data:"
   ]
  },
  {
   "cell_type": "code",
   "execution_count": 47,
   "metadata": {
    "colab": {
     "autoexec": {
      "startup": false,
      "wait_interval": 0
     }
    },
    "colab_type": "code",
    "id": "MJvNb2lR0Qi1",
    "ExecuteTime": {
     "end_time": "2024-11-11T07:28:01.619879400Z",
     "start_time": "2024-11-11T07:28:01.417723600Z"
    }
   },
   "outputs": [
    {
     "name": "stdout",
     "output_type": "stream",
     "text": [
      "tensor([5.5000, 3.0000])\n"
     ]
    }
   ],
   "source": [
    "x = torch.tensor([5.5, 3])\n",
    "print(x)"
   ]
  },
  {
   "cell_type": "markdown",
   "metadata": {
    "colab_type": "text",
    "id": "TIBFW9pa0UF0"
   },
   "source": [
    "or create a tensor based on an existing tensor. These methods will reuse properties of the input tensor, e.g. dtype, unless new values are provided by user"
   ]
  },
  {
   "cell_type": "code",
   "execution_count": 48,
   "metadata": {
    "colab": {
     "autoexec": {
      "startup": false,
      "wait_interval": 0
     }
    },
    "colab_type": "code",
    "id": "0LkwcTUs0ZIj",
    "ExecuteTime": {
     "end_time": "2024-11-11T07:28:01.631675900Z",
     "start_time": "2024-11-11T07:28:01.425745100Z"
    }
   },
   "outputs": [
    {
     "name": "stdout",
     "output_type": "stream",
     "text": [
      "tensor([[1., 1., 1.],\n",
      "        [1., 1., 1.],\n",
      "        [1., 1., 1.],\n",
      "        [1., 1., 1.],\n",
      "        [1., 1., 1.]])\n",
      "tensor([[ 1.0064,  1.1038, -1.1221],\n",
      "        [-0.6044, -1.9079,  1.0631],\n",
      "        [-1.0360,  0.2058, -1.7392],\n",
      "        [ 1.6823, -0.1641,  1.1703],\n",
      "        [-0.5903, -0.2164,  0.9260]])\n"
     ]
    }
   ],
   "source": [
    "x = x.new_ones(5, 3)      # new_* methods take in sizes; inherit data type and device if not specified\n",
    "print(x)\n",
    "\n",
    "x = torch.randn_like(x, dtype=torch.float)    # override dtype!\n",
    "print(x)                                      # result has the same size"
   ]
  },
  {
   "cell_type": "markdown",
   "metadata": {
    "colab_type": "text",
    "id": "9r9EKpUD0fWp"
   },
   "source": [
    "Get its size:"
   ]
  },
  {
   "cell_type": "code",
   "execution_count": 49,
   "metadata": {
    "colab": {
     "autoexec": {
      "startup": false,
      "wait_interval": 0
     }
    },
    "colab_type": "code",
    "id": "acdRMK7g0cLL",
    "ExecuteTime": {
     "end_time": "2024-11-11T07:28:01.632675700Z",
     "start_time": "2024-11-11T07:28:01.433794200Z"
    }
   },
   "outputs": [
    {
     "name": "stdout",
     "output_type": "stream",
     "text": [
      "torch.Size([5, 3])\n",
      "torch.Size([5, 3])\n"
     ]
    }
   ],
   "source": [
    "print(x.size())\n",
    "print(x.shape)"
   ]
  },
  {
   "cell_type": "markdown",
   "metadata": {
    "colab_type": "text",
    "id": "pKnafQWZ0vc1"
   },
   "source": [
    "#### note\n",
    "     torch.Size is in fact a tuple, so it supports all tuple operations.\n",
    "\n",
    "### Operations\n",
    "\n",
    "There are multiple syntaxes for operations. In the following\n",
    "example, we will take a look at the addition operation.\n",
    "\n",
    "Addition: syntax 1"
   ]
  },
  {
   "cell_type": "code",
   "execution_count": 50,
   "metadata": {
    "colab": {
     "autoexec": {
      "startup": false,
      "wait_interval": 0
     }
    },
    "colab_type": "code",
    "id": "PWiVkDzz0fvQ",
    "ExecuteTime": {
     "end_time": "2024-11-11T07:28:01.633675700Z",
     "start_time": "2024-11-11T07:28:01.439824500Z"
    }
   },
   "outputs": [
    {
     "name": "stdout",
     "output_type": "stream",
     "text": [
      "tensor([[ 1.3418,  1.7026, -0.6113],\n",
      "        [-0.2424, -1.5191,  1.3174],\n",
      "        [-0.8264,  0.6904, -1.4599],\n",
      "        [ 1.8659,  0.5775,  1.6514],\n",
      "        [ 0.0785,  0.7806,  1.1504]])\n"
     ]
    }
   ],
   "source": [
    "y = torch.rand(5, 3)\n",
    "print(x + y)"
   ]
  },
  {
   "cell_type": "markdown",
   "metadata": {
    "colab_type": "text",
    "id": "ZG5WHi2e1Pt7"
   },
   "source": [
    "Addition: syntax 2"
   ]
  },
  {
   "cell_type": "code",
   "execution_count": 51,
   "metadata": {
    "colab": {
     "autoexec": {
      "startup": false,
      "wait_interval": 0
     }
    },
    "colab_type": "code",
    "id": "YxNqNJTs1I2y",
    "ExecuteTime": {
     "end_time": "2024-11-11T07:28:01.645835200Z",
     "start_time": "2024-11-11T07:28:01.445407300Z"
    }
   },
   "outputs": [
    {
     "name": "stdout",
     "output_type": "stream",
     "text": [
      "tensor([[ 1.3418,  1.7026, -0.6113],\n",
      "        [-0.2424, -1.5191,  1.3174],\n",
      "        [-0.8264,  0.6904, -1.4599],\n",
      "        [ 1.8659,  0.5775,  1.6514],\n",
      "        [ 0.0785,  0.7806,  1.1504]])\n"
     ]
    }
   ],
   "source": [
    "print(torch.add(x, y))"
   ]
  },
  {
   "cell_type": "markdown",
   "metadata": {
    "colab_type": "text",
    "id": "ZyaL9kwO1eTK"
   },
   "source": [
    "Addition: providing an output tensor as argument"
   ]
  },
  {
   "cell_type": "code",
   "execution_count": 52,
   "metadata": {
    "colab": {
     "autoexec": {
      "startup": false,
      "wait_interval": 0
     }
    },
    "colab_type": "code",
    "id": "NJAukKm-1gST",
    "ExecuteTime": {
     "end_time": "2024-11-11T07:28:01.647052100Z",
     "start_time": "2024-11-11T07:28:01.449992500Z"
    }
   },
   "outputs": [
    {
     "name": "stdout",
     "output_type": "stream",
     "text": [
      "tensor([[ 1.3418,  1.7026, -0.6113],\n",
      "        [-0.2424, -1.5191,  1.3174],\n",
      "        [-0.8264,  0.6904, -1.4599],\n",
      "        [ 1.8659,  0.5775,  1.6514],\n",
      "        [ 0.0785,  0.7806,  1.1504]])\n"
     ]
    }
   ],
   "source": [
    "result = torch.empty(5, 3)\n",
    "torch.add(x, y, out=result)\n",
    "print(result)"
   ]
  },
  {
   "cell_type": "markdown",
   "metadata": {
    "colab_type": "text",
    "id": "OcixlkFY1mSK"
   },
   "source": [
    "Addition: in-place"
   ]
  },
  {
   "cell_type": "code",
   "execution_count": 53,
   "metadata": {
    "colab": {
     "autoexec": {
      "startup": false,
      "wait_interval": 0
     }
    },
    "colab_type": "code",
    "id": "b0ATzKnP1osR",
    "ExecuteTime": {
     "end_time": "2024-11-11T07:28:01.649086Z",
     "start_time": "2024-11-11T07:28:01.457985Z"
    }
   },
   "outputs": [
    {
     "name": "stdout",
     "output_type": "stream",
     "text": [
      "tensor([[ 1.3418,  1.7026, -0.6113],\n",
      "        [-0.2424, -1.5191,  1.3174],\n",
      "        [-0.8264,  0.6904, -1.4599],\n",
      "        [ 1.8659,  0.5775,  1.6514],\n",
      "        [ 0.0785,  0.7806,  1.1504]])\n",
      "tensor([[ 2.3482,  2.8063, -1.7335],\n",
      "        [-0.8467, -3.4270,  2.3805],\n",
      "        [-1.8623,  0.8962, -3.1991],\n",
      "        [ 3.5481,  0.4134,  2.8217],\n",
      "        [-0.5117,  0.5641,  2.0763]])\n"
     ]
    }
   ],
   "source": [
    "# adds x to y\n",
    "y.add_(x)\n",
    "print(y)\n",
    "\n",
    "# or\n",
    "y += x\n",
    "print(y)"
   ]
  },
  {
   "cell_type": "markdown",
   "metadata": {
    "colab_type": "text",
    "id": "lXZbk73m1mqv"
   },
   "source": [
    "#### note\n",
    "    Any operation that mutates a tensor in-place is post-fixed with an _.\n",
    "    For example: x.copy_(y), x.t_(), will change x.\n",
    "\n",
    "You can use standard NumPy-like indexing with all bells and whistles!"
   ]
  },
  {
   "cell_type": "code",
   "execution_count": 54,
   "metadata": {
    "colab": {
     "autoexec": {
      "startup": false,
      "wait_interval": 0
     }
    },
    "colab_type": "code",
    "id": "IK1MI7yu1p1T",
    "ExecuteTime": {
     "end_time": "2024-11-11T07:28:01.657363400Z",
     "start_time": "2024-11-11T07:28:01.462211Z"
    }
   },
   "outputs": [
    {
     "name": "stdout",
     "output_type": "stream",
     "text": [
      "tensor([[ 1.0064,  1.1038, -1.1221],\n",
      "        [-0.6044, -1.9079,  1.0631],\n",
      "        [-1.0360,  0.2058, -1.7392],\n",
      "        [ 1.6823, -0.1641,  1.1703],\n",
      "        [-0.5903, -0.2164,  0.9260]])\n",
      "tensor([ 1.0064, -0.6044, -1.0360,  1.6823, -0.5903])\n"
     ]
    }
   ],
   "source": [
    "print(x[:, 1])"
   ]
  },
  {
   "cell_type": "markdown",
   "metadata": {
    "colab_type": "text",
    "id": "bH-85hbn1mx8"
   },
   "source": [
    "Resizing: If you want to resize/reshape tensor, you can use ``torch.view``:"
   ]
  },
  {
   "cell_type": "code",
   "execution_count": 62,
   "metadata": {
    "colab": {
     "autoexec": {
      "startup": false,
      "wait_interval": 0
     }
    },
    "colab_type": "code",
    "id": "osFNs8dm1qYY",
    "ExecuteTime": {
     "end_time": "2024-11-11T07:28:42.325170900Z",
     "start_time": "2024-11-11T07:28:42.321629800Z"
    }
   },
   "outputs": [
    {
     "name": "stdout",
     "output_type": "stream",
     "text": [
      "torch.Size([4, 4]) torch.Size([16]) torch.Size([2, 8])\n"
     ]
    }
   ],
   "source": [
    "x = torch.randn(4, 4)\n",
    "y = x.view(16)\n",
    "z = x.view(-1, 8)  # the size -1 is inferred from other dimensions\n",
    "print(x.size(), y.size(), z.size())"
   ]
  },
  {
   "cell_type": "markdown",
   "metadata": {
    "colab_type": "text",
    "id": "88GoIW_Z1m6y"
   },
   "source": [
    "If you have a one element tensor, use ``.item()`` to get the value as a Python number"
   ]
  },
  {
   "cell_type": "code",
   "execution_count": 63,
   "metadata": {
    "colab": {
     "autoexec": {
      "startup": false,
      "wait_interval": 0
     }
    },
    "colab_type": "code",
    "id": "tOx3JDK21q7k",
    "ExecuteTime": {
     "end_time": "2024-11-11T07:28:51.547459100Z",
     "start_time": "2024-11-11T07:28:51.543114400Z"
    }
   },
   "outputs": [
    {
     "name": "stdout",
     "output_type": "stream",
     "text": [
      "tensor([-0.9347])\n",
      "-0.9346919655799866\n"
     ]
    }
   ],
   "source": [
    "x = torch.randn(1)\n",
    "print(x)\n",
    "print(x.item())"
   ]
  },
  {
   "cell_type": "markdown",
   "metadata": {
    "colab_type": "text",
    "id": "5N2cNKBY1nAm"
   },
   "source": [
    "**Read later:**\n",
    "\n",
    "\n",
    "100+ Tensor operations, including transposing, indexing, slicing,\n",
    "mathematical operations, linear algebra, random numbers, etc.,\n",
    "are described\n",
    "[here](http://pytorch.org/docs/torch).\n",
    "\n",
    "## NumPy Bridge\n",
    "\n",
    "Converting a Torch Tensor to a NumPy array and vice versa is a breeze.\n",
    "\n",
    "The Torch `Tensor` and NumPy `array` will share their underlying memory\n",
    "locations, and changing one will change the other.\n",
    "\n",
    "### Converting a Torch Tensor to a NumPy Array"
   ]
  },
  {
   "cell_type": "code",
   "execution_count": 64,
   "metadata": {
    "colab": {
     "autoexec": {
      "startup": false,
      "wait_interval": 0
     }
    },
    "colab_type": "code",
    "id": "sN5zoFkS1rT1",
    "ExecuteTime": {
     "end_time": "2024-11-11T07:29:35.777909300Z",
     "start_time": "2024-11-11T07:29:35.768355800Z"
    }
   },
   "outputs": [
    {
     "name": "stdout",
     "output_type": "stream",
     "text": [
      "tensor([1, 1, 1, 1, 1])\n"
     ]
    }
   ],
   "source": [
    "a = torch.ones(5)\n",
    "print(a)"
   ]
  },
  {
   "cell_type": "code",
   "execution_count": 58,
   "metadata": {
    "colab": {
     "autoexec": {
      "startup": false,
      "wait_interval": 0
     }
    },
    "colab_type": "code",
    "id": "Sx-qD8zV4Okq",
    "ExecuteTime": {
     "end_time": "2024-11-11T07:28:01.665463300Z",
     "start_time": "2024-11-11T07:28:01.483331Z"
    }
   },
   "outputs": [
    {
     "name": "stdout",
     "output_type": "stream",
     "text": [
      "[1. 1. 1. 1. 1.]\n"
     ]
    }
   ],
   "source": [
    "b = a.numpy()\n",
    "print(b)"
   ]
  },
  {
   "cell_type": "markdown",
   "metadata": {
    "colab_type": "text",
    "id": "HY_4kJjP1nGS"
   },
   "source": [
    "See how the numpy array changed in value."
   ]
  },
  {
   "cell_type": "code",
   "execution_count": 59,
   "metadata": {
    "colab": {
     "autoexec": {
      "startup": false,
      "wait_interval": 0
     }
    },
    "colab_type": "code",
    "id": "avoIX_pV1rjs",
    "ExecuteTime": {
     "end_time": "2024-11-11T07:28:01.665463300Z",
     "start_time": "2024-11-11T07:28:01.490970300Z"
    }
   },
   "outputs": [
    {
     "name": "stdout",
     "output_type": "stream",
     "text": [
      "tensor([2., 2., 2., 2., 2.])\n",
      "[2. 2. 2. 2. 2.]\n"
     ]
    }
   ],
   "source": [
    "a += 1\n",
    "print(a)\n",
    "print(b)"
   ]
  },
  {
   "cell_type": "markdown",
   "metadata": {
    "colab_type": "text",
    "id": "Ko_pjkCr1nKO"
   },
   "source": [
    "### Converting NumPy Array to Torch Tensor\n",
    "\n",
    "See how changing the np array changed the Torch Tensor automatically"
   ]
  },
  {
   "cell_type": "code",
   "execution_count": 60,
   "metadata": {
    "colab": {
     "autoexec": {
      "startup": false,
      "wait_interval": 0
     }
    },
    "colab_type": "code",
    "id": "2uv4BMX41r2b",
    "ExecuteTime": {
     "end_time": "2024-11-11T07:28:01.668999300Z",
     "start_time": "2024-11-11T07:28:01.494231700Z"
    }
   },
   "outputs": [
    {
     "name": "stdout",
     "output_type": "stream",
     "text": [
      "[2. 2. 2. 2. 2.]\n",
      "tensor([2., 2., 2., 2., 2.], dtype=torch.float64)\n"
     ]
    }
   ],
   "source": [
    "import numpy as np\n",
    "a = np.ones(5)\n",
    "b = torch.from_numpy(a)\n",
    "np.add(a, 1, out=a)\n",
    "print(a)\n",
    "print(b)"
   ]
  },
  {
   "cell_type": "markdown",
   "metadata": {
    "colab_type": "text",
    "id": "TJseasKM1nMm"
   },
   "source": [
    "All the Tensors on the CPU except a CharTensor support converting to\n",
    "NumPy and back.\n",
    "\n",
    "## CUDA Tensors\n",
    "\n",
    "Tensors can be moved onto any device using the ``.to`` method."
   ]
  },
  {
   "cell_type": "code",
   "execution_count": 61,
   "metadata": {
    "colab": {
     "autoexec": {
      "startup": false,
      "wait_interval": 0
     }
    },
    "colab_type": "code",
    "id": "aHFzRRwJ1sX5",
    "ExecuteTime": {
     "end_time": "2024-11-11T07:28:01.680770700Z",
     "start_time": "2024-11-11T07:28:01.500681700Z"
    }
   },
   "outputs": [],
   "source": [
    "# let us run this cell only if CUDA is available\n",
    "# We will use ``torch.device`` objects to move tensors in and out of GPU\n",
    "if torch.cuda.is_available():\n",
    "    device = torch.device(\"cuda\")          # a CUDA device object\n",
    "    y = torch.ones_like(x, device=device)  # directly create a tensor on GPU\n",
    "    x = x.to(device)                       # or just use strings ``.to(\"cuda\")``\n",
    "    z = x + y\n",
    "    print(z)\n",
    "    print(z.to(\"cpu\", torch.double))       # ``.to`` can also change dtype together!"
   ]
  },
  {
   "cell_type": "code",
   "execution_count": 61,
   "metadata": {
    "ExecuteTime": {
     "end_time": "2024-11-11T07:28:01.680770700Z",
     "start_time": "2024-11-11T07:28:01.503536Z"
    }
   },
   "outputs": [],
   "source": []
  }
 ],
 "metadata": {
  "accelerator": "GPU",
  "colab": {
   "collapsed_sections": [],
   "default_view": {},
   "name": "tensor_tutorial.ipynb",
   "provenance": [],
   "version": "0.3.2",
   "views": {}
  },
  "kernelspec": {
   "display_name": "cs324",
   "language": "python",
   "name": "python3"
  },
  "language_info": {
   "codemirror_mode": {
    "name": "ipython",
    "version": 3
   },
   "file_extension": ".py",
   "mimetype": "text/x-python",
   "name": "python",
   "nbconvert_exporter": "python",
   "pygments_lexer": "ipython3",
   "version": "3.11.8"
  }
 },
 "nbformat": 4,
 "nbformat_minor": 1
}
