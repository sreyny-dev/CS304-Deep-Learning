{
 "cells": [
  {
   "metadata": {},
   "cell_type": "markdown",
   "source": [
    "## Global Setting"
   ],
   "id": "5f6d716f888f082c"
  },
  {
   "metadata": {
    "ExecuteTime": {
     "end_time": "2024-05-12T07:30:03.559648Z",
     "start_time": "2024-05-12T07:30:03.528647Z"
    }
   },
   "cell_type": "code",
   "source": [
    "import numpy as np\n",
    "import torch\n",
    "\n",
    "# True if you want to get dynamic output in notebook block, else False\n",
    "SHOW_PLOT_IN_BLOCK = False\n",
    "\n",
    "\n",
    "# To keep the strategy the same, I use BGD uniformly\n",
    "LEARNING_RATE = 1e-2\n",
    "MAX_STEPS = 1500\n",
    "EVAL_FREQ = 10\n",
    "DNN_HIDDEN_UNITS = '20'\n",
    "\n",
    "GLOBAL_SEED = 42\n",
    "\n",
    "np.random.seed(GLOBAL_SEED)\n",
    "torch.manual_seed(GLOBAL_SEED)"
   ],
   "id": "d2e658835f08e315",
   "outputs": [
    {
     "data": {
      "text/plain": [
       "<torch._C.Generator at 0x1ec80459150>"
      ]
     },
     "execution_count": 5,
     "metadata": {},
     "output_type": "execute_result"
    }
   ],
   "execution_count": 5
  },
  {
   "metadata": {},
   "cell_type": "markdown",
   "source": [
    "## Task 2\n",
    "\n",
    "### Show data\n"
   ],
   "id": "114a120caa79b493"
  },
  {
   "metadata": {
    "ExecuteTime": {
     "end_time": "2024-05-12T07:30:04.773316Z",
     "start_time": "2024-05-12T07:30:03.593648Z"
    }
   },
   "cell_type": "code",
   "source": [
    "import matplotlib.pyplot as plt\n",
    "import numpy as np\n",
    "\n",
    "from sklearn.model_selection import train_test_split\n",
    "from sklearn.preprocessing import OneHotEncoder\n",
    "from sklearn.datasets import *\n",
    "\n",
    "\n",
    "class CmpDataGenerator:\n",
    "    def __init__(self, type_id, n_samples=1000, random_seed=42):\n",
    "        self.type_id = type_id\n",
    "        self.type_name = ''\n",
    "        self.random_seed = random_seed\n",
    "        self.n_samples = n_samples\n",
    "\n",
    "        x, y = [], []  # input and label\n",
    "        if type_id == 1:\n",
    "            self.type_name = 'moon'\n",
    "            x, y = make_moons(n_samples=self.n_samples, random_state=self.random_seed, noise=0.05)\n",
    "        elif type_id == 2:\n",
    "            self.type_name = 'blobs'\n",
    "            x, y = make_blobs(n_samples=self.n_samples, random_state=self.random_seed, centers=2, cluster_std=3)\n",
    "        elif type_id == 3:\n",
    "            self.type_name = 'gaussian_quantiles'\n",
    "            x, y = make_gaussian_quantiles(n_samples=self.n_samples, random_state=self.random_seed, n_classes=2)\n",
    "        y = OneHotEncoder(sparse_output=False).fit_transform(y.reshape(-1, 1))\n",
    "        self.x_train, self.x_test, self.y_train, self.y_test = (\n",
    "            train_test_split(x, y, random_state=self.random_seed, train_size=0.8, test_size=0.2))\n",
    "\n",
    "    def save_data_fig(self, show=SHOW_PLOT_IN_BLOCK):\n",
    "        train_pos = self.x_train[np.where(self.y_train[:, 0] == 1)]\n",
    "        train_neg = self.x_train[np.where(self.y_train[:, 0] == 0)]\n",
    "        test_pos = self.x_test[np.where(self.y_test[:, 0] == 1)]\n",
    "        test_neg = self.x_test[np.where(self.y_test[:, 0] == 0)]\n",
    "\n",
    "        plt.figure(figsize=(12, 6))\n",
    "        plt.subplot(1, 2, 1)\n",
    "        plt.scatter(train_pos[:, 0], train_pos[:, 1], c='blue', label='positive train point')\n",
    "        plt.scatter(train_neg[:, 0], train_neg[:, 1], c='red', label='negative train point ')\n",
    "        plt.legend()\n",
    "        title = self.type_name + ' train points'\n",
    "        plt.title(title)\n",
    "\n",
    "        plt.subplot(1, 2, 2, sharex=plt.gca(), sharey=plt.gca())\n",
    "        plt.scatter(test_pos[:, 0], test_pos[:, 1], c='blue', label='positive test point')\n",
    "        plt.scatter(test_neg[:, 0], test_neg[:, 1], c='red', label='negative test point ')\n",
    "        plt.legend()\n",
    "        title = self.type_name + ' test points'\n",
    "        plt.title(title)\n",
    "\n",
    "        plt.tight_layout()\n",
    "\n",
    "        path = '../Report/img/Part1/data_' + self.type_name + '.png'\n",
    "        plt.savefig(path)\n",
    "        if show:\n",
    "            plt.show()\n",
    "        plt.close()\n",
    "\n",
    "\n",
    "dataset1 = CmpDataGenerator(1)\n",
    "dataset2 = CmpDataGenerator(2)\n",
    "dataset3 = CmpDataGenerator(3)\n",
    "\n",
    "dataset1.save_data_fig(show=SHOW_PLOT_IN_BLOCK)\n",
    "dataset2.save_data_fig(show=SHOW_PLOT_IN_BLOCK)\n",
    "dataset3.save_data_fig(show=SHOW_PLOT_IN_BLOCK)\n"
   ],
   "id": "c247b4347e6559fb",
   "outputs": [],
   "execution_count": 6
  },
  {
   "metadata": {},
   "cell_type": "markdown",
   "source": [
    "### Compare Accuracy\n",
    "\n",
    "#### Define Plot Function"
   ],
   "id": "98143735e6f5f40f"
  },
  {
   "metadata": {
    "ExecuteTime": {
     "end_time": "2024-05-12T07:30:04.789315Z",
     "start_time": "2024-05-12T07:30:04.775315Z"
    }
   },
   "cell_type": "code",
   "source": [
    "def save_fig_acc(steps_numpy, steps_torch, train_numpy, train_torch, test_numpy, test_torch, file_name,\n",
    "                 show=SHOW_PLOT_IN_BLOCK):\n",
    "    plt.figure(figsize=(12, 6))\n",
    "\n",
    "    plt.subplot(1, 2, 1)\n",
    "    plt.plot(steps_numpy, train_numpy, label='Numpy Train Acc')\n",
    "    plt.plot(steps_torch, train_torch, label='Pytorch Train Acc')\n",
    "    plt.title(f'{file_name} Training Accuracy')\n",
    "    plt.xlabel('Step')\n",
    "    plt.ylabel('Accuracy')\n",
    "    plt.legend()\n",
    "    plt.grid(True)\n",
    "\n",
    "    plt.subplot(1, 2, 2)\n",
    "    plt.plot(steps_numpy, test_numpy, label='Numpy Test Acc')\n",
    "    plt.plot(steps_torch, test_torch, label='Pytorch Test Acc')\n",
    "    plt.title(f'{file_name} Testing Accuracy')\n",
    "    plt.xlabel('Step')\n",
    "    plt.ylabel('Accuracy')\n",
    "    plt.legend()\n",
    "    plt.grid(True)\n",
    "    plt.tight_layout()\n",
    "\n",
    "    path = '../Report/img/Part1/acc_' + file_name + '.png'\n",
    "    plt.savefig(path)\n",
    "    if show:\n",
    "        plt.show()\n",
    "    plt.close()\n",
    "\n",
    "\n",
    "def save_fig_loss(steps_numpy, steps_torch, train_numpy, train_torch, test_numpy, test_torch, file_name,\n",
    "                  show=SHOW_PLOT_IN_BLOCK):\n",
    "    plt.figure(figsize=(12, 6))\n",
    "\n",
    "    plt.subplot(1, 2, 1)\n",
    "    plt.plot(steps_numpy, train_numpy, label='Numpy Train Loss')\n",
    "    plt.plot(steps_torch, train_torch, label='Pytorch Train Loss')\n",
    "    plt.title(f'{file_name} Training Loss')\n",
    "    plt.xlabel('Step')\n",
    "    plt.ylabel('Loss')\n",
    "    plt.legend()\n",
    "    plt.grid(True)\n",
    "\n",
    "    plt.subplot(1, 2, 2)\n",
    "    plt.plot(steps_numpy, test_numpy, label='Numpy Test Loss')\n",
    "    plt.plot(steps_torch, test_torch, label='Pytorch Test Loss')\n",
    "    plt.title(f'{file_name} Testing Loss')\n",
    "    plt.xlabel('Step')\n",
    "    plt.ylabel('Loss')\n",
    "    plt.legend()\n",
    "    plt.grid(True)\n",
    "    plt.tight_layout()\n",
    "\n",
    "    path = '../Report/img/Part1/loss_' + file_name + '.png'\n",
    "    plt.savefig(path)\n",
    "    if show:\n",
    "        plt.show()\n",
    "    plt.close()\n"
   ],
   "id": "2a92ebcf1b96aca2",
   "outputs": [],
   "execution_count": 7
  },
  {
   "metadata": {},
   "cell_type": "markdown",
   "source": [
    "### Generate Result\n"
   ],
   "id": "ce37234629f9db38"
  },
  {
   "metadata": {
    "ExecuteTime": {
     "end_time": "2024-05-12T07:30:14.782433Z",
     "start_time": "2024-05-12T07:30:04.791315Z"
    }
   },
   "cell_type": "code",
   "source": [
    "import numpy_train_mlp\n",
    "import pytorch_train_mlp\n",
    "\n",
    "for dataset in [dataset1, dataset2, dataset3]:\n",
    "    data_in = dataset.x_train, dataset.y_train, dataset.x_test, dataset.y_test\n",
    "    steps_numpy, train_acc_numpy, test_acc_numpy, train_loss_numpy, test_loss_numpy = numpy_train_mlp.train(\n",
    "        data_in, dnn_hidden_units=DNN_HIDDEN_UNITS, learning_rate=LEARNING_RATE, max_steps=MAX_STEPS,\n",
    "        eval_freq=EVAL_FREQ)\n",
    "    steps_torch, train_acc_torch, test_acc_torch, train_loss_torch, test_loss_torch = pytorch_train_mlp.train(\n",
    "        data_in, dnn_hidden_units=DNN_HIDDEN_UNITS, learning_rate=LEARNING_RATE, max_steps=MAX_STEPS,\n",
    "        eval_freq=EVAL_FREQ)\n",
    "    save_fig_acc(steps_numpy, steps_torch, train_acc_numpy, train_acc_torch, test_acc_numpy, test_acc_torch,\n",
    "                 dataset.type_name)\n",
    "    save_fig_loss(steps_numpy, steps_torch, train_loss_numpy, train_loss_torch, test_loss_numpy, test_loss_torch,\n",
    "                  dataset.type_name)\n",
    "    \n",
    "print('Generate Done!')"
   ],
   "id": "bd4188fdf3896a7d",
   "outputs": [
    {
     "name": "stdout",
     "output_type": "stream",
     "text": [
      "Generate Done!\n"
     ]
    }
   ],
   "execution_count": 8
  },
  {
   "metadata": {},
   "cell_type": "markdown",
   "source": [
    "## Static Show Images\n",
    "\n",
    "### Moon\n",
    "\n",
    "Data shape\n",
    "\n",
    "![data_moon](../Report/img/Part1/data_moon.png)\n",
    "\n",
    "Accuracy Curve\n",
    "\n",
    "![acc_moon](../Report/img/Part1/acc_moon.png)\n",
    "\n",
    "Loss Curve\n",
    "\n",
    "![loss_moon](../Report/img/Part1/loss_moon.png)\n",
    "\n",
    "### Blobs\n",
    "\n",
    "Data shape\n",
    "\n",
    "![data_blobs](../Report/img/Part1/data_blobs.png)\n",
    "\n",
    "Accuracy Curve\n",
    "\n",
    "![acc_blobs](../Report/img/Part1/acc_blobs.png)\n",
    "\n",
    "Loss Curve\n",
    "\n",
    "![loss_blobs](../Report/img/Part1/loss_blobs.png)\n",
    "\n",
    "\n",
    "### Gaussian Quantiles\n",
    "\n",
    "Data shape\n",
    "\n",
    "![data_gaussian_quantiles](../Report/img/Part1/data_gaussian_quantiles.png)\n",
    "\n",
    "Accuracy Curve\n",
    "\n",
    "![acc_gaussian_quantiles](../Report/img/Part1/acc_gaussian_quantiles.png)\n",
    "\n",
    "Loss Curve\n",
    "\n",
    "![loss_gaussian_quantiles](../Report/img/Part1/loss_gaussian_quantiles.png)\n",
    "\n",
    "\n"
   ],
   "id": "a2e714f9bc8ae061"
  }
 ],
 "metadata": {
  "kernelspec": {
   "display_name": "Python 3",
   "language": "python",
   "name": "python3"
  },
  "language_info": {
   "codemirror_mode": {
    "name": "ipython",
    "version": 2
   },
   "file_extension": ".py",
   "mimetype": "text/x-python",
   "name": "python",
   "nbconvert_exporter": "python",
   "pygments_lexer": "ipython2",
   "version": "2.7.6"
  }
 },
 "nbformat": 4,
 "nbformat_minor": 5
}
