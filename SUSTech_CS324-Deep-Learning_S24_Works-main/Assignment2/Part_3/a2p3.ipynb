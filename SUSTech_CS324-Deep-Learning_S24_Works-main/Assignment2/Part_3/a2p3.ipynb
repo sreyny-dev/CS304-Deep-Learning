{
 "cells": [
  {
   "metadata": {},
   "cell_type": "markdown",
   "source": [
    "## Global Setting"
   ],
   "id": "abac0033df09f930"
  },
  {
   "metadata": {
    "ExecuteTime": {
     "end_time": "2024-11-26T13:22:49.131935100Z",
     "start_time": "2024-11-26T13:22:49.087994500Z"
    }
   },
   "cell_type": "code",
   "source": [
    "import torch\n",
    "import numpy as np\n",
    "\n",
    "# True if you want to get dynamic output in notebook block, else False\n",
    "SHOW_PLOT_IN_BLOCK = False\n",
    "GLOBAL_SEED = 42\n",
    "\n",
    "CONFIG = {\n",
    "    'input_length': 4,\n",
    "    'input_dim': 1,\n",
    "    'num_classes': 10,\n",
    "    'num_hidden': 128,\n",
    "    'batch_size': 128,\n",
    "    'learning_rate': 0.001,\n",
    "    'max_epoch': 200,\n",
    "    'max_norm': 10,\n",
    "    'data_size': 1000000,\n",
    "    'portion_train': 0.8,\n",
    "    'use_scheduler': False,\n",
    "}\n",
    "\n",
    "torch.manual_seed(GLOBAL_SEED)\n",
    "torch.cuda.manual_seed_all(GLOBAL_SEED)\n",
    "np.random.seed(GLOBAL_SEED)\n"
   ],
   "id": "770cb91e890edd64",
   "outputs": [],
   "execution_count": 4
  },
  {
   "metadata": {},
   "cell_type": "markdown",
   "source": [
    "## Task 3\n",
    "\n",
    "### Define Util Functions\n"
   ],
   "id": "58f1c4dda7ea0b54"
  },
  {
   "metadata": {
    "ExecuteTime": {
     "end_time": "2024-11-26T13:22:49.131935100Z",
     "start_time": "2024-11-26T13:22:49.123290400Z"
    }
   },
   "cell_type": "code",
   "source": [
    "import matplotlib.pyplot as plt\n",
    "\n",
    "\n",
    "def save_fig_curve(eval_epochs, train_acc, val_acc, train_loss, val_loss, file_name, need_show):\n",
    "    plt.figure(figsize=(12, 6))\n",
    "\n",
    "    plt.subplot(1, 2, 1)\n",
    "    plt.plot(eval_epochs, train_acc, label='Train Acc')\n",
    "    plt.plot(eval_epochs, val_acc, label='Val Acc')\n",
    "    plt.title(f'{file_name} Accuracy')\n",
    "    plt.xlabel('Epoch')\n",
    "    plt.ylabel('Accuracy')\n",
    "    plt.legend()\n",
    "    plt.grid(True)\n",
    "\n",
    "    plt.subplot(1, 2, 2)\n",
    "    plt.plot(eval_epochs, train_loss, label='Train Loss')\n",
    "    plt.plot(eval_epochs, val_loss, label='Val Loss')\n",
    "    plt.title(f'{file_name} Loss')\n",
    "    plt.xlabel('Epoch')\n",
    "    plt.ylabel('Accuracy')\n",
    "    plt.legend()\n",
    "    plt.grid(True)\n",
    "\n",
    "    plt.tight_layout()\n",
    "\n",
    "    path = '../Report/img/Part3/' + file_name + '.png'\n",
    "    plt.savefig(path)\n",
    "\n",
    "    if need_show:\n",
    "        plt.show()\n",
    "    plt.close()\n",
    "\n"
   ],
   "id": "7237c6b5e4384094",
   "outputs": [],
   "execution_count": 5
  },
  {
   "metadata": {},
   "cell_type": "markdown",
   "source": [
    "### Start Train\n"
   ],
   "id": "ee81b80697ab4df1"
  },
  {
   "metadata": {
    "ExecuteTime": {
     "end_time": "2024-11-26T13:23:00.895533Z",
     "start_time": "2024-11-26T13:22:49.128937700Z"
    }
   },
   "cell_type": "code",
   "source": [
    "import train\n",
    "\n",
    "train_acc_l, val_acc_l, train_loss_l, val_loss_l = train.main(config=CONFIG)\n",
    "eval_epochs_l = range(CONFIG['max_epoch'])\n",
    "\n",
    "seq_length = CONFIG['input_length'] + 1\n",
    "save_fig_curve(eval_epochs_l, train_acc_l, val_acc_l, train_loss_l, val_loss_l, file_name=f'RNN_train_t{seq_length}_latest',\n",
    "               need_show=SHOW_PLOT_IN_BLOCK)"
   ],
   "id": "abd57733f30348b8",
   "outputs": [
    {
     "name": "stdout",
     "output_type": "stream",
     "text": [
      "Device: NVIDIA GeForce RTX 3050 Laptop GPU\n",
      "Warning: total_len is larger than the maximum possible length. \n",
      "Setting total_len to the maximum possible length. \n",
      "Warning: access length of dataset by len(dataset) to get the actual length. \n"
     ]
    },
    {
     "name": "stderr",
     "output_type": "stream",
     "text": [
      "100%|██████████| 200/200 [00:11<00:00, 17.45it/s]\n"
     ]
    },
    {
     "name": "stdout",
     "output_type": "stream",
     "text": [
      "Done training.\n",
      "Save data to results/latest.csv\n",
      "After 200 Epochs:\n",
      "Train Acc: 100.0000%, Validate Acc: 100.0000%\n",
      "Train Loss: 1.462745, Validate Loss: 1.462982\n"
     ]
    }
   ],
   "execution_count": 6
  },
  {
   "metadata": {},
   "cell_type": "markdown",
   "source": [
    "## Static Show Images\n",
    "\n",
    "### T = 5\n",
    "\n",
    "Normal:\n",
    "\n",
    "![RNN_train_t5](../Report/img/Part3/RNN_train_t5.png)\n",
    "\n",
    "\n",
    "Fail:\n",
    "\n",
    "![RNN_train_t5_fail](../Report/img/Part3/RNN_train_t5_fail.png)\n",
    "\n",
    "\n",
    "### T = 20\n",
    "\n",
    "Normal:\n",
    "\n",
    "![RNN_train_t20](../Report/img/Part3/RNN_train_t20.png)\n",
    "\n",
    "\n",
    "Fail:\n",
    "\n",
    "![RNN_train_t20_fail](../Report/img/Part3/RNN_train_t20_fail.png)\n"
   ],
   "id": "79fb9547bed594bb"
  }
 ],
 "metadata": {
  "kernelspec": {
   "display_name": "Python 3",
   "language": "python",
   "name": "python3"
  },
  "language_info": {
   "codemirror_mode": {
    "name": "ipython",
    "version": 2
   },
   "file_extension": ".py",
   "mimetype": "text/x-python",
   "name": "python",
   "nbconvert_exporter": "python",
   "pygments_lexer": "ipython2",
   "version": "2.7.6"
  }
 },
 "nbformat": 4,
 "nbformat_minor": 5
}
