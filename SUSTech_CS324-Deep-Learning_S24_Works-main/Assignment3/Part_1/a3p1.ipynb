{
 "cells": [
  {
   "metadata": {},
   "cell_type": "markdown",
   "source": [
    "## Global Setting"
   ],
   "id": "abac0033df09f930"
  },
  {
   "metadata": {
    "ExecuteTime": {
     "end_time": "2024-12-19T12:03:21.946373100Z",
     "start_time": "2024-12-19T12:03:15.658021300Z"
    }
   },
   "cell_type": "code",
   "source": [
    "import torch\n",
    "import numpy as np\n",
    "\n",
    "# True if you want to get dynamic output in notebook block, else False\n",
    "SHOW_PLOT_IN_BLOCK = True\n",
    "GLOBAL_SEED = 42\n",
    "\n",
    "CONFIG = {\n",
    "    'input_length': 4,\n",
    "    'input_dim': 1,\n",
    "    'num_classes': 10,\n",
    "    'num_hidden': 128,\n",
    "    'batch_size': 128,\n",
    "    'learning_rate': 0.001,\n",
    "    'max_epoch': 100,\n",
    "    'max_norm': 10,\n",
    "    'data_size': 100000,\n",
    "    'portion_train': 0.8,\n",
    "    'use_scheduler': False,\n",
    "}\n",
    "\n",
    "seq_length = CONFIG['input_length'] + 1\n",
    "FILE_NAME = f'LSTM_train_t{seq_length}_latest'\n",
    "\n",
    "torch.manual_seed(GLOBAL_SEED)\n",
    "torch.cuda.manual_seed_all(GLOBAL_SEED)\n",
    "np.random.seed(GLOBAL_SEED)\n"
   ],
   "id": "770cb91e890edd64",
   "outputs": [],
   "execution_count": 1
  },
  {
   "metadata": {},
   "cell_type": "markdown",
   "source": [
    "## Task 3\n",
    "\n",
    "### Define Util Functions\n"
   ],
   "id": "58f1c4dda7ea0b54"
  },
  {
   "metadata": {
    "ExecuteTime": {
     "end_time": "2024-12-19T12:03:22.913743600Z",
     "start_time": "2024-12-19T12:03:21.947376Z"
    }
   },
   "cell_type": "code",
   "source": [
    "import matplotlib.pyplot as plt\n",
    "\n",
    "\n",
    "def save_fig_curve(eval_epochs, train_acc, val_acc, train_loss, val_loss, file_name, need_show):\n",
    "    plt.figure(figsize=(12, 6))\n",
    "\n",
    "    plt.subplot(1, 2, 1)\n",
    "    plt.plot(eval_epochs, train_acc, label='Train Acc')\n",
    "    plt.plot(eval_epochs, val_acc, label='Val Acc')\n",
    "    plt.title(f'{file_name} Accuracy')\n",
    "    plt.xlabel('Epoch')\n",
    "    plt.ylabel('Accuracy')\n",
    "    plt.legend()\n",
    "    plt.grid(True)\n",
    "\n",
    "    plt.subplot(1, 2, 2)\n",
    "    plt.plot(eval_epochs, train_loss, label='Train Loss')\n",
    "    plt.plot(eval_epochs, val_loss, label='Val Loss')\n",
    "    plt.title(f'{file_name} Loss')\n",
    "    plt.xlabel('Epoch')\n",
    "    plt.ylabel('Accuracy')\n",
    "    plt.legend()\n",
    "    plt.grid(True)\n",
    "\n",
    "    plt.tight_layout()\n",
    "\n",
    "    path = '../Report/img/Part1/' + file_name + '.png'\n",
    "    plt.savefig(path)\n",
    "\n",
    "    if need_show:\n",
    "        plt.show()\n",
    "    plt.close()\n",
    "\n"
   ],
   "id": "7237c6b5e4384094",
   "outputs": [],
   "execution_count": 2
  },
  {
   "metadata": {},
   "cell_type": "markdown",
   "source": [
    "### Start Train\n"
   ],
   "id": "ee81b80697ab4df1"
  },
  {
   "metadata": {
    "ExecuteTime": {
     "end_time": "2024-12-19T13:36:03.368259600Z",
     "start_time": "2024-12-19T13:36:01.059937800Z"
    }
   },
   "cell_type": "code",
   "source": [
    "import train\n",
    "\n",
    "train_acc_l, val_acc_l, train_loss_l, val_loss_l = train.main(config=CONFIG)\n",
    "eval_epochs_l = range(CONFIG['max_epoch'])\n",
    "\n",
    "seq_length = CONFIG['input_length'] + 1\n",
    "save_fig_curve(eval_epochs_l, train_acc_l, val_acc_l, train_loss_l, val_loss_l,\n",
    "               file_name=FILE_NAME,\n",
    "               need_show=SHOW_PLOT_IN_BLOCK)"
   ],
   "id": "abd57733f30348b8",
   "outputs": [
    {
     "ename": "NameError",
     "evalue": "name 'CONFIG' is not defined",
     "output_type": "error",
     "traceback": [
      "\u001B[1;31m---------------------------------------------------------------------------\u001B[0m",
      "\u001B[1;31mNameError\u001B[0m                                 Traceback (most recent call last)",
      "Cell \u001B[1;32mIn[1], line 3\u001B[0m\n\u001B[0;32m      1\u001B[0m \u001B[38;5;28;01mimport\u001B[39;00m \u001B[38;5;21;01mtrain\u001B[39;00m\n\u001B[1;32m----> 3\u001B[0m train_acc_l, val_acc_l, train_loss_l, val_loss_l \u001B[38;5;241m=\u001B[39m train\u001B[38;5;241m.\u001B[39mmain(config\u001B[38;5;241m=\u001B[39m\u001B[43mCONFIG\u001B[49m)\n\u001B[0;32m      4\u001B[0m eval_epochs_l \u001B[38;5;241m=\u001B[39m \u001B[38;5;28mrange\u001B[39m(CONFIG[\u001B[38;5;124m'\u001B[39m\u001B[38;5;124mmax_epoch\u001B[39m\u001B[38;5;124m'\u001B[39m])\n\u001B[0;32m      6\u001B[0m seq_length \u001B[38;5;241m=\u001B[39m CONFIG[\u001B[38;5;124m'\u001B[39m\u001B[38;5;124minput_length\u001B[39m\u001B[38;5;124m'\u001B[39m] \u001B[38;5;241m+\u001B[39m \u001B[38;5;241m1\u001B[39m\n",
      "\u001B[1;31mNameError\u001B[0m: name 'CONFIG' is not defined"
     ]
    }
   ],
   "execution_count": 1
  },
  {
   "metadata": {},
   "cell_type": "markdown",
   "source": [
    "\n"
   ],
   "id": "79fb9547bed594bb"
  },
  {
   "metadata": {},
   "cell_type": "markdown",
   "source": [
    "### Static Show Images\n",
    "\n",
    "$T = 5$ Default\n",
    "\n",
    "![t5_default](../Report/img/part1/LSTM_train_t5_default.png)\n",
    "\n",
    "$T = 5$ Best\n",
    "\n",
    "![t5_lr_1e-2](../Report/img/part1/LSTM_train_t5_lr_1e-2.png)\n",
    "\n",
    "$T = 20$ Default\n",
    "\n",
    "![t20_default](../Report/img/part1/LSTM_train_t20_default.png)\n",
    "\n",
    "$T = 20$ Best\n",
    "\n",
    "![t20_best](../Report/img/part1/LSTM_train_t20_lr_1e-4.png)\n",
    "\n",
    "$T = 30$\n",
    "\n",
    "![t30](../Report/img/part1/LSTM_train_t30_lr_1e-4.png)\n",
    "\n"
   ],
   "id": "cfc8e04bb0aaf878"
  },
  {
   "cell_type": "code",
   "execution_count": null,
   "outputs": [],
   "source": [],
   "metadata": {
    "collapsed": false
   },
   "id": "b6bd9e6347fd5b24"
  }
 ],
 "metadata": {
  "kernelspec": {
   "display_name": "Python 3",
   "language": "python",
   "name": "python3"
  },
  "language_info": {
   "codemirror_mode": {
    "name": "ipython",
    "version": 2
   },
   "file_extension": ".py",
   "mimetype": "text/x-python",
   "name": "python",
   "nbconvert_exporter": "python",
   "pygments_lexer": "ipython2",
   "version": "2.7.6"
  }
 },
 "nbformat": 4,
 "nbformat_minor": 5
}
