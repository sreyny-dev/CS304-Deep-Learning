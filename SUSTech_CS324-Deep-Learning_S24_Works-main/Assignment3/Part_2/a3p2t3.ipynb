{
 "cells": [
  {
   "metadata": {},
   "cell_type": "markdown",
   "source": [
    "## Global Setting"
   ],
   "id": "30e30f5f6acaab47"
  },
  {
   "metadata": {
    "ExecuteTime": {
     "end_time": "2024-05-23T09:12:04.185140Z",
     "start_time": "2024-05-23T09:12:04.172137Z"
    }
   },
   "cell_type": "code",
   "source": [
    "import torch\n",
    "\n",
    "# True if you want to get dynamic output in notebook block, else False\n",
    "SHOW_IMG_IN_BLOCK = True\n",
    "\n",
    "MODEL_PATH = './model/mnist_generator_final.pt'\n",
    "IMAGE_OUT_PATH = './images/t3/'\n",
    "\n",
    "# True if you want to get single images for each step, else False\n",
    "NEED_EACH_STEP_IMG = False\n",
    "\n",
    "DEVICE = torch.device('cuda' if torch.cuda.is_available() else 'cpu')"
   ],
   "id": "e5bf5404101cdc4e",
   "outputs": [],
   "execution_count": 46
  },
  {
   "metadata": {},
   "cell_type": "markdown",
   "source": [
    "### Load the Model, Prepare Noise"
   ],
   "id": "b923e1d4ff34d89e"
  },
  {
   "metadata": {
    "ExecuteTime": {
     "end_time": "2024-05-23T09:12:04.262137Z",
     "start_time": "2024-05-23T09:12:04.189139Z"
    }
   },
   "cell_type": "code",
   "source": [
    "import torch\n",
    "from torchvision.utils import save_image\n",
    "from my_gan import Generator\n",
    "\n",
    "generator = Generator(100).to(DEVICE)\n",
    "generator.load_state_dict(torch.load(MODEL_PATH))\n",
    "generator.eval()\n",
    "\n",
    "noise_begin = torch.randn(size=(1, 100), device=DEVICE)\n",
    "noise_end = torch.randn(size=(1, 100), device=DEVICE)\n",
    "\n",
    "noises_interp = []\n",
    "steps = 9\n",
    "for i in range(steps):\n",
    "    alpha = i / (steps - 1)\n",
    "    noise = noise_begin * (1 - alpha) + noise_end * alpha\n",
    "    noises_interp.append(noise)\n"
   ],
   "id": "2bdf58dc49f5011b",
   "outputs": [],
   "execution_count": 47
  },
  {
   "metadata": {},
   "cell_type": "markdown",
   "source": [
    "### Generate and Save Image"
   ],
   "id": "7aab0f504eed3d2"
  },
  {
   "metadata": {
    "ExecuteTime": {
     "end_time": "2024-12-23T07:12:30.312803700Z",
     "start_time": "2024-12-23T07:12:30.128664600Z"
    }
   },
   "cell_type": "code",
   "source": [
    "noises_tensor = torch.stack(noises_interp).squeeze()\n",
    "\n",
    "if NEED_EACH_STEP_IMG:\n",
    "    for i in range(steps):\n",
    "        img_data = generator(noises_tensor[i].view(1, 100))\n",
    "        img_gen = img_data.view(1, 28, 28)\n",
    "        save_image(img_gen, f'{IMAGE_OUT_PATH}step_{i}.png', normalize=True, value_range=(-1, 1))\n",
    "\n",
    "img_data = generator(noises_tensor)\n",
    "img_gen = img_data.view(img_data.shape[0], 1, 28, 28)\n",
    "save_image(img_gen, f'{IMAGE_OUT_PATH}whole_latest.png', nrow=steps, normalize=True, value_range=(-1, 1))\n"
   ],
   "id": "bcd10fdda5c67123",
   "outputs": [
    {
     "ename": "NameError",
     "evalue": "name 'torch' is not defined",
     "output_type": "error",
     "traceback": [
      "\u001B[1;31m---------------------------------------------------------------------------\u001B[0m",
      "\u001B[1;31mNameError\u001B[0m                                 Traceback (most recent call last)",
      "Cell \u001B[1;32mIn[1], line 1\u001B[0m\n\u001B[1;32m----> 1\u001B[0m noises_tensor \u001B[38;5;241m=\u001B[39m \u001B[43mtorch\u001B[49m\u001B[38;5;241m.\u001B[39mstack(noises_interp)\u001B[38;5;241m.\u001B[39msqueeze()\n\u001B[0;32m      3\u001B[0m \u001B[38;5;28;01mif\u001B[39;00m NEED_EACH_STEP_IMG:\n\u001B[0;32m      4\u001B[0m     \u001B[38;5;28;01mfor\u001B[39;00m i \u001B[38;5;129;01min\u001B[39;00m \u001B[38;5;28mrange\u001B[39m(steps):\n",
      "\u001B[1;31mNameError\u001B[0m: name 'torch' is not defined"
     ]
    }
   ],
   "execution_count": 1
  },
  {
   "metadata": {},
   "cell_type": "markdown",
   "source": [
    "### Show Image"
   ],
   "id": "26eca152bb258164"
  },
  {
   "metadata": {
    "ExecuteTime": {
     "end_time": "2024-12-23T07:26:48.076136100Z",
     "start_time": "2024-12-23T07:26:47.897860700Z"
    }
   },
   "cell_type": "code",
   "source": [
    "from IPython.display import display, Image\n",
    "\n",
    "if SHOW_IMG_IN_BLOCK:\n",
    "    print(f'Show latest image steps')\n",
    "    display(Image(filename=f'{IMAGE_OUT_PATH}whole_latest.png'))\n"
   ],
   "id": "fde168765364b16f",
   "outputs": [
    {
     "ename": "NameError",
     "evalue": "name 'SHOW_IMG_IN_BLOCK' is not defined",
     "output_type": "error",
     "traceback": [
      "\u001B[1;31m---------------------------------------------------------------------------\u001B[0m",
      "\u001B[1;31mNameError\u001B[0m                                 Traceback (most recent call last)",
      "Cell \u001B[1;32mIn[1], line 3\u001B[0m\n\u001B[0;32m      1\u001B[0m \u001B[38;5;28;01mfrom\u001B[39;00m \u001B[38;5;21;01mIPython\u001B[39;00m\u001B[38;5;21;01m.\u001B[39;00m\u001B[38;5;21;01mdisplay\u001B[39;00m \u001B[38;5;28;01mimport\u001B[39;00m display, Image\n\u001B[1;32m----> 3\u001B[0m \u001B[38;5;28;01mif\u001B[39;00m \u001B[43mSHOW_IMG_IN_BLOCK\u001B[49m:\n\u001B[0;32m      4\u001B[0m     \u001B[38;5;28mprint\u001B[39m(\u001B[38;5;124mf\u001B[39m\u001B[38;5;124m'\u001B[39m\u001B[38;5;124mShow latest image steps\u001B[39m\u001B[38;5;124m'\u001B[39m)\n\u001B[0;32m      5\u001B[0m     display(Image(filename\u001B[38;5;241m=\u001B[39m\u001B[38;5;124mf\u001B[39m\u001B[38;5;124m'\u001B[39m\u001B[38;5;132;01m{\u001B[39;00mIMAGE_OUT_PATH\u001B[38;5;132;01m}\u001B[39;00m\u001B[38;5;124mwhole_latest.png\u001B[39m\u001B[38;5;124m'\u001B[39m))\n",
      "\u001B[1;31mNameError\u001B[0m: name 'SHOW_IMG_IN_BLOCK' is not defined"
     ]
    }
   ],
   "execution_count": 1
  },
  {
   "metadata": {},
   "cell_type": "markdown",
   "source": [
    "### Static Show Prepared Results\n",
    "\n",
    "![whole1](../Report/img/p2t3/whole1.png)\n",
    "\n",
    "![whole2](../Report/img/p2t3/whole2.png)\n",
    "\n",
    "![whole3](../Report/img/p2t3/whole3.png)\n",
    "\n",
    "![whole4](../Report/img/p2t3/whole4.png)\n",
    "\n",
    "![whole5](../Report/img/p2t3/whole5.png)"
   ],
   "id": "261e4c84864ad861"
  },
  {
   "cell_type": "code",
   "execution_count": null,
   "outputs": [],
   "source": [],
   "metadata": {
    "collapsed": false
   },
   "id": "42bff832dbbaedf0"
  }
 ],
 "metadata": {
  "kernelspec": {
   "display_name": "Python 3",
   "language": "python",
   "name": "python3"
  },
  "language_info": {
   "codemirror_mode": {
    "name": "ipython",
    "version": 2
   },
   "file_extension": ".py",
   "mimetype": "text/x-python",
   "name": "python",
   "nbconvert_exporter": "python",
   "pygments_lexer": "ipython2",
   "version": "2.7.6"
  }
 },
 "nbformat": 4,
 "nbformat_minor": 5
}
