{
 "cells": [
  {
   "cell_type": "markdown",
   "source": [
    "## 1 Generate data\n",
    "\n",
    "### Generate the data in Gauss Distribution"
   ],
   "metadata": {
    "collapsed": false
   },
   "id": "76f6bcc880b896cc"
  },
  {
   "cell_type": "code",
   "outputs": [],
   "source": [
    "import numpy as np\n",
    "import matplotlib.pyplot as plt\n",
    "\n",
    "SHOW_PLOT_IN_BLOCK = False\n",
    "\n",
    "\n",
    "def save_fig(filename, show=SHOW_PLOT_IN_BLOCK):\n",
    "    path = '../Report/img/Part1/' + filename + '.png'\n",
    "    plt.savefig(path)\n",
    "    if show:\n",
    "        plt.show()\n",
    "\n",
    "\n",
    "def generate_data(mean1, mean2, cov1, cov2, seed=42):\n",
    "    if seed != 0:\n",
    "        np.random.seed(seed)\n",
    "    print(f'Mean1:{mean1}, Mean2:{mean2}')\n",
    "    print(f'Cov1:{cov1}, Cov2: {cov2}')\n",
    "    p_pos = np.random.multivariate_normal(mean1, cov1, 100)\n",
    "    p_neg = np.random.multivariate_normal(mean2, cov2, 100)\n",
    "\n",
    "    return p_pos, p_neg\n"
   ],
   "metadata": {
    "collapsed": false,
    "ExecuteTime": {
     "end_time": "2024-04-03T21:28:28.859023Z",
     "start_time": "2024-04-03T21:28:28.282024Z"
    }
   },
   "id": "f51e11fb20a5552",
   "execution_count": 1
  },
  {
   "cell_type": "markdown",
   "source": [
    "### Shuffle the data function"
   ],
   "metadata": {
    "collapsed": false
   },
   "id": "ba5207777ffbe6e2"
  },
  {
   "cell_type": "code",
   "outputs": [],
   "source": [
    "def shuffle_data(points1, points2):\n",
    "    train_points_pos, test_points_pos = points1[:80], points1[80:]\n",
    "    train_points_neg, test_points_neg = points2[:80], points2[80:]\n",
    "\n",
    "    train_points = np.concatenate((train_points_pos, train_points_neg))\n",
    "    train_labels = np.concatenate((np.ones(80), -1 * np.ones(80)))\n",
    "    test_points = np.concatenate((test_points_pos, test_points_neg))\n",
    "    test_labels = np.concatenate((np.ones(20), -1 * np.ones(20)))\n",
    "    permutation = np.random.permutation(train_points.shape[0])\n",
    "    shuffled_train = train_points[permutation, :]\n",
    "    shuffled_label = train_labels[permutation]\n",
    "    return shuffled_train, shuffled_label, test_points, test_labels"
   ],
   "metadata": {
    "collapsed": false,
    "ExecuteTime": {
     "end_time": "2024-04-03T21:28:28.875023Z",
     "start_time": "2024-04-03T21:28:28.861024Z"
    }
   },
   "id": "435cc8022c58f266",
   "execution_count": 2
  },
  {
   "cell_type": "markdown",
   "source": [
    "## 2 Train\n",
    "\n",
    "### Add Plot Function"
   ],
   "metadata": {
    "collapsed": false
   },
   "id": "fa090f239213dc6c"
  },
  {
   "cell_type": "code",
   "outputs": [],
   "source": [
    "def plot_test(train_points, train_labels, test_points, test_labels, weight, test_id):\n",
    "    train_pos = train_points[train_labels == 1]\n",
    "    train_neg = train_points[train_labels == -1]\n",
    "    test_pos = test_points[test_labels == 1]\n",
    "    test_neg = test_points[test_labels == -1]\n",
    "    plt.scatter(train_pos[:, 0], train_pos[:, 1], c='blue', marker='o', label='positive train')\n",
    "    plt.scatter(train_neg[:, 0], train_neg[:, 1], c='red', marker='o', label='negative train')\n",
    "    plt.scatter(test_pos[:, 0], test_pos[:, 1], c='blue', marker='x', label='positive test')\n",
    "    plt.scatter(test_neg[:, 0], test_neg[:, 1], c='red', marker='x', label='negative test')\n",
    "\n",
    "    b, w1, w2 = weight\n",
    "    x_min, x_max = test_points[:, 0].min(), test_points[:, 0].max()\n",
    "    x_range = np.linspace(x_min, x_max, 100)\n",
    "    y_range = (-w1 / w2) * x_range - (b / w2)\n",
    "    plt.plot(x_range, y_range, color='black', label='Boundary', linewidth=2, linestyle='--')\n",
    "    plt.xlabel('point-x')\n",
    "    plt.ylabel('point-y')\n",
    "    plt.legend()\n",
    "    plt.title(f'Test Case {test_id}')\n",
    "    save_fig(f'test{test_id}_data', show=SHOW_PLOT_IN_BLOCK)\n",
    "    plt.close()"
   ],
   "metadata": {
    "collapsed": false,
    "ExecuteTime": {
     "end_time": "2024-04-03T21:28:28.890023Z",
     "start_time": "2024-04-03T21:28:28.877025Z"
    }
   },
   "id": "e2441ccd08d26a42",
   "execution_count": 3
  },
  {
   "cell_type": "markdown",
   "source": [
    "### Add Show Curve Function"
   ],
   "metadata": {
    "collapsed": false
   },
   "id": "9379c9f26bccbae9"
  },
  {
   "cell_type": "code",
   "outputs": [],
   "source": [
    "def show_curve(train_acc, train_loss, test_acc, test_loss, test_id):\n",
    "    plt.figure(figsize=(12, 6))\n",
    "\n",
    "    plt.subplot(1, 2, 1)\n",
    "    plt.plot(train_acc, label='Train Accuracy')\n",
    "    plt.plot(test_acc, label='Test Accuracy')\n",
    "    plt.title(f'Test id {test_id} Training and Test Accuracy')\n",
    "    plt.xlabel('Epoch')\n",
    "    plt.ylabel('Accuracy(%)')\n",
    "    plt.legend()\n",
    "    plt.grid(True)\n",
    "\n",
    "    plt.subplot(1, 2, 2)\n",
    "    plt.plot(train_loss, label='Train Loss')\n",
    "    plt.plot(test_loss, label='Test Loss')\n",
    "    plt.title(f'Test id {test_id} Training and Test Loss')\n",
    "    plt.xlabel('Epoch')\n",
    "    plt.ylabel('Loss')\n",
    "    plt.legend()\n",
    "    plt.grid(True)\n",
    "\n",
    "    save_fig(f'test{test_id}_curve', show=SHOW_PLOT_IN_BLOCK)\n",
    "    plt.close()"
   ],
   "metadata": {
    "collapsed": false,
    "ExecuteTime": {
     "end_time": "2024-04-03T21:28:28.905023Z",
     "start_time": "2024-04-03T21:28:28.892024Z"
    }
   },
   "id": "939d5363559dbb6c",
   "execution_count": 4
  },
  {
   "cell_type": "markdown",
   "source": [
    "### Add Test Function"
   ],
   "metadata": {
    "collapsed": false
   },
   "id": "6e041d2fba449eb6"
  },
  {
   "cell_type": "code",
   "outputs": [
    {
     "name": "stdout",
     "output_type": "stream",
     "text": [
      "Test id 1\n",
      "Mean1:[3, 3], Mean2:[15, 15]\n",
      "Cov1:[[2, 0], [0, 2]], Cov2: [[2, 0], [0, 2]]\n",
      "Final test loss:0.000000, acc: 100.00%\n",
      "Test id 2\n",
      "Mean1:[3, 3], Mean2:[6, 6]\n",
      "Cov1:[[10, 0], [0, 10]], Cov2: [[10, 0], [0, 10]]\n",
      "Final test loss:0.686886, acc: 80.00%\n",
      "Test id 3\n",
      "Mean1:[3, 3], Mean2:[4, 4]\n",
      "Cov1:[[2, 0], [0, 2]], Cov2: [[2, 0], [0, 2]]\n",
      "Final test loss:6.698976, acc: 50.00%\n"
     ]
    }
   ],
   "source": [
    "from perceptron import Perceptron\n",
    "\n",
    "\n",
    "def test_once(data, test_id: int):\n",
    "    points1, points2 = data\n",
    "\n",
    "    shuffled_train, shuffled_label, test_points, test_labels = shuffle_data(points1, points2)\n",
    "\n",
    "    p = Perceptron(2)\n",
    "    train_acc, train_loss, test_acc, test_loss = p.train(shuffled_train, shuffled_label, test_points, test_labels)\n",
    "\n",
    "    plot_test(shuffled_train, shuffled_label, test_points, test_labels, p.weights, test_id)\n",
    "    show_curve(train_acc, train_loss, test_acc, test_loss, test_id)\n",
    "\n",
    "\n",
    "def different_test():\n",
    "    print('Test id 1')\n",
    "    mean1, mean2 = [3, 3], [15, 15]\n",
    "    cov1, cov2 = [[2, 0], [0, 2]], [[2, 0], [0, 2]]\n",
    "    test_once(generate_data(mean1, mean2, cov1, cov2), 1)\n",
    "    \n",
    "    print('Test id 2')\n",
    "    mean1, mean2 = [3, 3], [6, 6]\n",
    "    cov1, cov2 = [[10, 0], [0, 10]], [[10, 0], [0, 10]]\n",
    "    test_once(generate_data(mean1, mean2, cov1, cov2), 2)\n",
    "    \n",
    "    print('Test id 3')\n",
    "    mean1, mean2 = [3, 3], [4, 4]\n",
    "    cov1, cov2 = [[2, 0], [0, 2]], [[2, 0], [0, 2]]\n",
    "    test_once(generate_data(mean1, mean2, cov1, cov2), 3)\n",
    "\n",
    "\n",
    "different_test()"
   ],
   "metadata": {
    "collapsed": false,
    "ExecuteTime": {
     "end_time": "2024-04-03T21:28:30.765426Z",
     "start_time": "2024-04-03T21:28:28.907026Z"
    }
   },
   "id": "64d516450a00d7c4",
   "execution_count": 5
  },
  {
   "cell_type": "markdown",
   "source": [
    "### Static Show Test Example\n",
    "\n",
    "![test1_data](../Report/img/Part1/test1_data.png)\n",
    "\n",
    "![test1_curve](../Report/img/Part1/test1_curve.png)\n",
    "\n",
    "![test2_data](../Report/img/Part1/test2_data.png)\n",
    "\n",
    "![test2_curve](../Report/img/Part1/test2_curve.png)\n",
    "\n",
    "![test3_data](../Report/img/Part1/test3_data.png)\n",
    "\n",
    "![test3_curve](../Report/img/Part1/test3_curve.png)"
   ],
   "metadata": {
    "collapsed": false
   },
   "id": "75a874973495879d"
  }
 ],
 "metadata": {
  "kernelspec": {
   "display_name": "Python 3",
   "language": "python",
   "name": "python3"
  },
  "language_info": {
   "codemirror_mode": {
    "name": "ipython",
    "version": 2
   },
   "file_extension": ".py",
   "mimetype": "text/x-python",
   "name": "python",
   "nbconvert_exporter": "python",
   "pygments_lexer": "ipython2",
   "version": "2.7.6"
  }
 },
 "nbformat": 4,
 "nbformat_minor": 5
}
