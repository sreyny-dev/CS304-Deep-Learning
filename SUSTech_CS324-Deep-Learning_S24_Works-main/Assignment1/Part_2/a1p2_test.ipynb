{
 "cells": [
  {
   "cell_type": "markdown",
   "id": "4fc7b9cf064340a0",
   "metadata": {
    "collapsed": false
   },
   "source": [
    "## 1 Generate data\n",
    "\n",
    "### Generate the data in Moon"
   ]
  },
  {
   "cell_type": "code",
   "execution_count": 1,
   "id": "initial_id",
   "metadata": {
    "collapsed": true,
    "ExecuteTime": {
     "end_time": "2024-04-03T21:07:02.052473Z",
     "start_time": "2024-04-03T21:07:00.518998Z"
    }
   },
   "outputs": [],
   "source": [
    "import matplotlib.pyplot as plt\n",
    "import numpy as np\n",
    "from sklearn.model_selection import train_test_split\n",
    "from sklearn.preprocessing import OneHotEncoder\n",
    "from sklearn.datasets import make_moons\n",
    "\n",
    "SHOW_PLOT_IN_BLOCK = False\n",
    "\n",
    "def save_fig(filename, show=SHOW_PLOT_IN_BLOCK):\n",
    "    path = '../Report/img/Part2/' + filename + '.png'\n",
    "    plt.savefig(path)\n",
    "    if show:\n",
    "        plt.show()\n",
    "\n",
    "\n",
    "def generate_data(n_samples=200, seed=42):\n",
    "    data_x, data_y = make_moons(n_samples=n_samples, random_state=seed)\n",
    "    data_y = OneHotEncoder(sparse_output=False).fit_transform(data_y.reshape(-1, 1))\n",
    "\n",
    "    return data_x, data_y\n"
   ]
  },
  {
   "cell_type": "markdown",
   "id": "1356a8f4458a2097",
   "metadata": {
    "collapsed": false
   },
   "source": [
    "### Show the Test Data"
   ]
  },
  {
   "cell_type": "code",
   "execution_count": 2,
   "id": "9bee5c966ddf44c3",
   "metadata": {
    "collapsed": false,
    "ExecuteTime": {
     "end_time": "2024-04-03T21:07:02.242472Z",
     "start_time": "2024-04-03T21:07:02.054473Z"
    }
   },
   "outputs": [],
   "source": [
    "def plot_data(x, y):\n",
    "    point_pos = x[np.where(y[:, 0] == 1)]\n",
    "    point_neg = x[np.where(y[:, 0] == 0)]\n",
    "\n",
    "    plt.scatter(point_pos[:, 0], point_pos[:, 1], c='blue', label='positive data point')\n",
    "    plt.scatter(point_neg[:, 0], point_neg[:, 1], c='red', label='negative data point ')\n",
    "    plt.xlabel('point-x')\n",
    "    plt.ylabel('point-y')\n",
    "    plt.legend()\n",
    "    plt.title('Moon One Hot')\n",
    "    save_fig('sample_data')\n",
    "    plt.close()\n",
    "\n",
    "\n",
    "gen_data_x, gen_data_y = generate_data(1000)\n",
    "plot_data(gen_data_x, gen_data_y)\n"
   ]
  },
  {
   "cell_type": "markdown",
   "id": "2c188889774219c0",
   "metadata": {
    "collapsed": false
   },
   "source": [
    "#### Static Show Test Picture\n",
    "\n",
    "![Part2_data](../Report/img/Part2/sample_data.png)"
   ]
  },
  {
   "cell_type": "markdown",
   "id": "2170bd8ca92808e",
   "metadata": {
    "collapsed": false
   },
   "source": [
    "### Split and Shuffle Data"
   ]
  },
  {
   "cell_type": "code",
   "execution_count": 3,
   "id": "41d2c51bd51cda92",
   "metadata": {
    "collapsed": false,
    "ExecuteTime": {
     "end_time": "2024-04-03T21:07:02.258477Z",
     "start_time": "2024-04-03T21:07:02.244473Z"
    }
   },
   "outputs": [],
   "source": [
    "train_x, test_x, train_y, test_y = train_test_split(gen_data_x, gen_data_y, test_size=0.2, random_state=42,shuffle=True)"
   ]
  },
  {
   "cell_type": "markdown",
   "id": "d695cd80dc8c5dbe",
   "metadata": {
    "collapsed": false
   },
   "source": [
    "## 2 Train\n",
    "\n",
    "\n",
    "### Add Plot Function"
   ]
  },
  {
   "cell_type": "code",
   "execution_count": 4,
   "id": "1b53473b0e115c3f",
   "metadata": {
    "collapsed": false,
    "ExecuteTime": {
     "end_time": "2024-04-03T21:07:02.274476Z",
     "start_time": "2024-04-03T21:07:02.260477Z"
    }
   },
   "outputs": [],
   "source": [
    "def show_curve(train_acc, train_loss, test_acc, test_loss, batch_sz):\n",
    "    train_epochs, train_accs = zip(*train_acc)\n",
    "    _, train_losses = zip(*train_loss)\n",
    "    test_epochs, test_accs = zip(*test_acc)\n",
    "    _, test_losses = zip(*test_loss)\n",
    "\n",
    "    plt.figure(figsize=(12, 6))\n",
    "\n",
    "    plt.subplot(1, 2, 1)\n",
    "    plt.plot(train_epochs, train_accs, label='Train Accuracy')\n",
    "    plt.plot(test_epochs, test_accs, label='Test Accuracy')\n",
    "    plt.title(f'Batch = {batch_sz} Training and Test Accuracy')\n",
    "    plt.xlabel('Epoch')\n",
    "    plt.ylabel('Accuracy(%)')\n",
    "    plt.legend()\n",
    "    plt.grid(True)\n",
    "\n",
    "    plt.subplot(1, 2, 2)\n",
    "    plt.plot(train_epochs, train_losses, label='Train Loss')\n",
    "    plt.plot(test_epochs, test_losses, label='Test Loss')\n",
    "    plt.title(f'Batch = {batch_sz} Training and Test Loss')\n",
    "    plt.xlabel('Epoch')\n",
    "    plt.ylabel('Loss')\n",
    "    plt.legend()\n",
    "    plt.grid(True)\n",
    "\n",
    "    save_fig(f'curve_batch_{batch_sz}', show=SHOW_PLOT_IN_BLOCK)\n",
    "    plt.close()\n"
   ]
  },
  {
   "cell_type": "markdown",
   "id": "9c289dc27abe9cf6",
   "metadata": {
    "collapsed": false
   },
   "source": [
    "### Add Test Function"
   ]
  },
  {
   "cell_type": "code",
   "execution_count": 5,
   "id": "cd6428bd61dd683a",
   "metadata": {
    "collapsed": false,
    "ExecuteTime": {
     "end_time": "2024-04-03T21:07:02.290481Z",
     "start_time": "2024-04-03T21:07:02.276473Z"
    }
   },
   "outputs": [],
   "source": [
    "import train_mlp_numpy\n",
    "\n",
    "\n",
    "def test_sgd():\n",
    "    tra, trl, tea, tel = train_mlp_numpy.train(data=(train_x, train_y, test_x, test_y), batch_size=-1)\n",
    "    show_curve(tra, trl, tea, tel, batch_sz=-1)\n",
    "\n",
    "\n",
    "def test_dgd(batch=800):\n",
    "    tra, trl, tea, tel = train_mlp_numpy.train(data=(train_x, train_y, test_x, test_y), batch_size=batch)\n",
    "    show_curve(tra, trl, tea, tel, batch_sz=batch)"
   ]
  },
  {
   "cell_type": "markdown",
   "id": "2d3c08a8a8b59e1d",
   "metadata": {
    "collapsed": false
   },
   "source": [
    "### Test With Sgd"
   ]
  },
  {
   "cell_type": "code",
   "execution_count": 6,
   "id": "de9f61820a37044b",
   "metadata": {
    "collapsed": false,
    "ExecuteTime": {
     "end_time": "2024-04-03T21:07:02.831072Z",
     "start_time": "2024-04-03T21:07:02.292579Z"
    }
   },
   "outputs": [
    {
     "name": "stdout",
     "output_type": "stream",
     "text": [
      "Batch -1 Training complete!\n"
     ]
    }
   ],
   "source": [
    "test_sgd()"
   ]
  },
  {
   "cell_type": "markdown",
   "id": "ef5f112ca7adb7ee",
   "metadata": {
    "collapsed": false
   },
   "source": [
    "### Test With Dgd"
   ]
  },
  {
   "cell_type": "code",
   "execution_count": 7,
   "id": "5fde715bfa8b255b",
   "metadata": {
    "collapsed": false,
    "ExecuteTime": {
     "end_time": "2024-04-03T21:08:55.170116Z",
     "start_time": "2024-04-03T21:07:02.833070Z"
    }
   },
   "outputs": [
    {
     "name": "stdout",
     "output_type": "stream",
     "text": [
      "Batch 1 Training complete!\n",
      "Batch 10 Training complete!\n",
      "Batch 100 Training complete!\n",
      "Batch 800 Training complete!\n",
      "Batch -10 Training complete!\n",
      "Batch -100 Training complete!\n"
     ]
    }
   ],
   "source": [
    "test_dgd(batch=1)\n",
    "\n",
    "test_dgd(batch=10)\n",
    "\n",
    "test_dgd(batch=100)\n",
    "\n",
    "test_dgd(batch=800)\n",
    "\n",
    "test_dgd(batch=-10)\n",
    "\n",
    "test_dgd(batch=-100)"
   ]
  },
  {
   "cell_type": "markdown",
   "id": "15a3615ed81e3f1e",
   "metadata": {
    "collapsed": false
   },
   "source": [
    "#### Static Show Curve for SGD and BGD 1, 100, 800 and Mini-batch 100\n",
    "\n",
    "![p2batch-1](../Report/img/Part2/curve_batch_-1.png)\n",
    "\n",
    "![p2batch1](../Report/img/Part2/curve_batch_1.png)\n",
    "\n",
    "![p2batch10](../Report/img/Part2/curve_batch_10.png)\n",
    "\n",
    "![p2batch100](../Report/img/Part2/curve_batch_100.png)\n",
    "\n",
    "![p2batch800](../Report/img/Part2/curve_batch_800.png)\n",
    "\n",
    "![p2batch-10](../Report/img/Part2/curve_batch_-10.png)\n",
    "\n",
    "![p2batch-100](../Report/img/Part2/curve_batch_-100.png)"
   ]
  }
 ],
 "metadata": {
  "kernelspec": {
   "display_name": "Python 3",
   "language": "python",
   "name": "python3"
  },
  "language_info": {
   "codemirror_mode": {
    "name": "ipython",
    "version": 2
   },
   "file_extension": ".py",
   "mimetype": "text/x-python",
   "name": "python",
   "nbconvert_exporter": "python",
   "pygments_lexer": "ipython2",
   "version": "2.7.6"
  }
 },
 "nbformat": 4,
 "nbformat_minor": 5
}
